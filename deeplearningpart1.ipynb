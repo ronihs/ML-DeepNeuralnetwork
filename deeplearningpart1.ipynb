{
  "nbformat": 4,
  "nbformat_minor": 0,
  "metadata": {
    "colab": {
      "name": "deeplearningpart1.ipynb",
      "provenance": [],
      "authorship_tag": "ABX9TyNzEMPhX9+NZzaY+AGMP66F",
      "include_colab_link": true
    },
    "kernelspec": {
      "name": "python3",
      "display_name": "Python 3"
    }
  },
  "cells": [
    {
      "cell_type": "markdown",
      "metadata": {
        "id": "view-in-github",
        "colab_type": "text"
      },
      "source": [
        "<a href=\"https://colab.research.google.com/github/ronihs/deeplearning/blob/master/deeplearningpart1.ipynb\" target=\"_parent\"><img src=\"https://colab.research.google.com/assets/colab-badge.svg\" alt=\"Open In Colab\"/></a>"
      ]
    },
    {
      "cell_type": "code",
      "metadata": {
        "id": "3Z4BA9w4zc0E",
        "colab_type": "code",
        "colab": {}
      },
      "source": [
        "import numpy as np"
      ],
      "execution_count": 0,
      "outputs": []
    },
    {
      "cell_type": "code",
      "metadata": {
        "id": "dG87KZIjzyyi",
        "colab_type": "code",
        "colab": {}
      },
      "source": [
        "def forwardPass(input,weight,bias):\n",
        "  w_sum = np.dot(input,weight) + bias\n",
        "  #Linear Activation f(x) = x\n",
        "  act = w_sum\n",
        "  return act"
      ],
      "execution_count": 0,
      "outputs": []
    },
    {
      "cell_type": "code",
      "metadata": {
        "id": "S40JvhsM0Qbp",
        "colab_type": "code",
        "colab": {}
      },
      "source": [
        "#pre-trained weight & biases after training"
      ],
      "execution_count": 0,
      "outputs": []
    },
    {
      "cell_type": "code",
      "metadata": {
        "id": "picXaTaA0Xac",
        "colab_type": "code",
        "colab": {}
      },
      "source": [
        "w = np.array([[2.99999928]])\n",
        "b = np.array([1.99999976])"
      ],
      "execution_count": 0,
      "outputs": []
    },
    {
      "cell_type": "code",
      "metadata": {
        "id": "b-k6WBGr0r9S",
        "colab_type": "code",
        "colab": {}
      },
      "source": [
        "#initialize input data"
      ],
      "execution_count": 0,
      "outputs": []
    },
    {
      "cell_type": "code",
      "metadata": {
        "id": "9QOpC19d0vv-",
        "colab_type": "code",
        "colab": {}
      },
      "source": [
        "inputs = np.array([[7],[8],[9],[10]])"
      ],
      "execution_count": 0,
      "outputs": []
    },
    {
      "cell_type": "code",
      "metadata": {
        "id": "dgq4uEcU05y8",
        "colab_type": "code",
        "colab": {}
      },
      "source": [
        "#output of output layer\n",
        "o_out = forwardPass(inputs,w,b)"
      ],
      "execution_count": 0,
      "outputs": []
    },
    {
      "cell_type": "code",
      "metadata": {
        "id": "lWb90JMQ1FKb",
        "colab_type": "code",
        "colab": {
          "base_uri": "https://localhost:8080/",
          "height": 136
        },
        "outputId": "ded96762-893a-433d-a967-330d58404eb8"
      },
      "source": [
        "print('Output Layer Output (Linear)')\n",
        "print('================================')\n",
        "print(o_out, \"\\n\")"
      ],
      "execution_count": 12,
      "outputs": [
        {
          "output_type": "stream",
          "text": [
            "Output Layer Output (Linear)\n",
            "================================\n",
            "[[22.99999472]\n",
            " [25.999994  ]\n",
            " [28.99999328]\n",
            " [31.99999256]] \n",
            "\n"
          ],
          "name": "stdout"
        }
      ]
    },
    {
      "cell_type": "code",
      "metadata": {
        "id": "5kyiM5gE1i1F",
        "colab_type": "code",
        "colab": {}
      },
      "source": [
        ""
      ],
      "execution_count": 0,
      "outputs": []
    }
  ]
}