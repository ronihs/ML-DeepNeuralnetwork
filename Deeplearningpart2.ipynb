{
  "nbformat": 4,
  "nbformat_minor": 0,
  "metadata": {
    "colab": {
      "name": "Deeplearningpart2.ipynb",
      "provenance": [],
      "collapsed_sections": [],
      "authorship_tag": "ABX9TyMtYlHNziiNDy422PRq7q+C",
      "include_colab_link": true
    },
    "kernelspec": {
      "name": "python3",
      "display_name": "Python 3"
    }
  },
  "cells": [
    {
      "cell_type": "markdown",
      "metadata": {
        "id": "view-in-github",
        "colab_type": "text"
      },
      "source": [
        "<a href=\"https://colab.research.google.com/github/ronihs/deeplearning/blob/master/Deeplearningpart2.ipynb\" target=\"_parent\"><img src=\"https://colab.research.google.com/assets/colab-badge.svg\" alt=\"Open In Colab\"/></a>"
      ]
    },
    {
      "cell_type": "code",
      "metadata": {
        "id": "RG9X8jW0JFTi",
        "colab_type": "code",
        "colab": {}
      },
      "source": [
        "import numpy as np"
      ],
      "execution_count": 0,
      "outputs": []
    },
    {
      "cell_type": "code",
      "metadata": {
        "id": "QSq_tR25JN1W",
        "colab_type": "code",
        "colab": {}
      },
      "source": [
        "def forwardPass(inputs,weight,bias,activation ='linear'):\n",
        "  w_sum = np.dot(inputs, weight) + bias\n",
        "\n",
        "  if activation is 'relu':\n",
        "    #ReLU Activation f(x) =max (0,x)\n",
        "    act = np.maximum(w_sum,0)\n",
        "  else :\n",
        "    #Linear Activation f(x) = x\n",
        "    act = w_sum\n",
        "\n",
        "  return act"
      ],
      "execution_count": 0,
      "outputs": []
    },
    {
      "cell_type": "code",
      "metadata": {
        "id": "zz9ZJnedKCn7",
        "colab_type": "code",
        "colab": {}
      },
      "source": [
        "#pre-trained weight & biases after training\n",
        "W_H = np.array([[0.00192761, -0.78845304, 0.30310717, 0.44131625, 0.32792646, -0.02451803, 1.43445349, -1.12972116]])\n",
        "b_H = np.array([-0.02657719, -1.15885878, -0.79183501, -0.33550513, -0.23438406, -0.25078532, 0.22305705, 0.80253315])\n",
        "\n",
        "W_o = np.array([[-0.77540326], [ 0.5030424 ], [ 0.37374797], [-0.20287184], [-0.35956827], [-0.54576212], [ 1.04326093], [ 0.8857621 ]])\n",
        "b_o = np.array([ 0.04351173])"
      ],
      "execution_count": 0,
      "outputs": []
    },
    {
      "cell_type": "code",
      "metadata": {
        "id": "jJEUIfBBKYHi",
        "colab_type": "code",
        "colab": {}
      },
      "source": [
        "#Initialize input Data\n",
        "inputs =np.array([[-2],[0],[2]])"
      ],
      "execution_count": 0,
      "outputs": []
    },
    {
      "cell_type": "code",
      "metadata": {
        "id": "nbPLsp4NKll0",
        "colab_type": "code",
        "colab": {}
      },
      "source": [
        "#Outpt of Hidden layer\n",
        "h_out = forwardPass(inputs,W_H, b_H,'relu')"
      ],
      "execution_count": 0,
      "outputs": []
    },
    {
      "cell_type": "code",
      "metadata": {
        "id": "ST_wtjZLK_0p",
        "colab_type": "code",
        "colab": {
          "base_uri": "https://localhost:8080/",
          "height": 170
        },
        "outputId": "f307fe5e-c590-461c-ce1a-d78f6cebd7c1"
      },
      "source": [
        "print('Hidden layer Output (ReLU)')\n",
        "print('===========================')\n",
        "print(h_out,\"\\n\")"
      ],
      "execution_count": 6,
      "outputs": [
        {
          "output_type": "stream",
          "text": [
            "Hidden layer Output (ReLU)\n",
            "===========================\n",
            "[[0.         0.4180473  0.         0.         0.         0.\n",
            "  0.         3.06197547]\n",
            " [0.         0.         0.         0.         0.         0.\n",
            "  0.22305705 0.80253315]\n",
            " [0.         0.         0.         0.54712737 0.42146886 0.\n",
            "  3.09196403 0.        ]] \n",
            "\n"
          ],
          "name": "stdout"
        }
      ]
    },
    {
      "cell_type": "code",
      "metadata": {
        "id": "hLXgCqrsLOie",
        "colab_type": "code",
        "colab": {}
      },
      "source": [
        "#Output Of Output layer\n",
        "o_out = forwardPass(h_out,W_o,b_o,'linear')"
      ],
      "execution_count": 0,
      "outputs": []
    },
    {
      "cell_type": "code",
      "metadata": {
        "id": "OXKlnSNZLn4P",
        "colab_type": "code",
        "colab": {
          "base_uri": "https://localhost:8080/",
          "height": 119
        },
        "outputId": "467c230a-821f-4793-ff5f-80d33fefe123"
      },
      "source": [
        "print('Output Of Output (Linear)')\n",
        "print('=========================')\n",
        "print(o_out,\"\\n\")"
      ],
      "execution_count": 9,
      "outputs": [
        {
          "output_type": "stream",
          "text": [
            "Output Of Output (Linear)\n",
            "=========================\n",
            "[[2.96598907]\n",
            " [0.98707188]\n",
            " [3.00669343]] \n",
            "\n"
          ],
          "name": "stdout"
        }
      ]
    },
    {
      "cell_type": "code",
      "metadata": {
        "id": "7Am32VClL-6A",
        "colab_type": "code",
        "colab": {}
      },
      "source": [
        ""
      ],
      "execution_count": 0,
      "outputs": []
    }
  ]
}